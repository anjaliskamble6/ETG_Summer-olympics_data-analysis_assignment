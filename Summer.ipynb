{
  "nbformat": 4,
  "nbformat_minor": 0,
  "metadata": {
    "colab": {
      "name": "Summer.ipynb",
      "provenance": [],
      "collapsed_sections": []
    },
    "kernelspec": {
      "name": "python3",
      "display_name": "Python 3"
    },
    "language_info": {
      "name": "python"
    }
  },
  "cells": [
    {
      "cell_type": "code",
      "metadata": {
        "id": "wrnYXWy1UvW6"
      },
      "source": [
        "import pandas as pd"
      ],
      "execution_count": 11,
      "outputs": []
    },
    {
      "cell_type": "code",
      "metadata": {
        "id": "OHiBkdX9f1iJ"
      },
      "source": [
        "df = pd.read_csv(\"summer.csv\")"
      ],
      "execution_count": 12,
      "outputs": []
    },
    {
      "cell_type": "markdown",
      "metadata": {
        "id": "UYy358hKgh6V"
      },
      "source": [
        "In how many cities Summer Olympics is held so far?"
      ]
    },
    {
      "cell_type": "code",
      "metadata": {
        "colab": {
          "base_uri": "https://localhost:8080/"
        },
        "id": "YBhq2ZRggsYO",
        "outputId": "60baa79e-5244-4f8f-c869-61ef99b94189"
      },
      "source": [
        "df['City'].value_counts()"
      ],
      "execution_count": 13,
      "outputs": [
        {
          "output_type": "execute_result",
          "data": {
            "text/plain": [
              "London                   3567\n",
              "Athens                   2149\n",
              "Los Angeles              2074\n",
              "Beijing                  2042\n",
              "Sydney                   2015\n",
              "Atlanta                  1859\n",
              "Barcelona                1705\n",
              "Seoul                    1546\n",
              "Paris                    1396\n",
              "Moscow                   1387\n",
              "Montreal                 1305\n",
              "Antwerp                  1298\n",
              "Munich                   1185\n",
              "Mexico                   1031\n",
              "Tokyo                    1010\n",
              "Helsinki                  889\n",
              "Melbourne / Stockholm     885\n",
              "Stockholm                 885\n",
              "Rome                      882\n",
              "Berlin                    875\n",
              "Amsterdam                 710\n",
              "St Louis                  470\n",
              "Name: City, dtype: int64"
            ]
          },
          "metadata": {},
          "execution_count": 13
        }
      ]
    },
    {
      "cell_type": "markdown",
      "metadata": {
        "id": "aPdv8HmTraml"
      },
      "source": [
        "2. Which sport is having most number of Gold medals so far?(Top 5)"
      ]
    },
    {
      "cell_type": "code",
      "metadata": {
        "colab": {
          "base_uri": "https://localhost:8080/",
          "height": 399
        },
        "id": "ZNxxGQpZrojI",
        "outputId": "3c2d2fd4-049d-4ea1-ddf0-30cb5a4026ac"
      },
      "source": [
        "data = []\n",
        "\n",
        "for sport in df['Sport'].unique():\n",
        "  data.append([sport, len(df[df['Sport'] == sport])])\n",
        "  \n",
        "df[df.Sport == 'Gold']\n",
        "\n",
        "data =  pd.DataFrame(data, columns = ['Sport', 'Gold'])\n",
        "data = data.sort_values(by = 'Gold', ascending = False).head()\n",
        "data.plot(x = 'Sport', y = 'Gold', kind = 'bar', figsize = (5,5))"
      ],
      "execution_count": null,
      "outputs": [
        {
          "output_type": "execute_result",
          "data": {
            "text/plain": [
              "<matplotlib.axes._subplots.AxesSubplot at 0x7f39220ccc50>"
            ]
          },
          "metadata": {},
          "execution_count": 19
        },
        {
          "output_type": "display_data",
          "data": {
            "image/png": "[encoded data removed]",
            "text/plain": [
              "<Figure size 360x360 with 1 Axes>"
            ]
          },
          "metadata": {
            "needs_background": "light"
          }
        }
      ]
    },
    {
      "cell_type": "markdown",
      "metadata": {
        "id": "2I9VXE0duG04"
      },
      "source": [
        "3. Which sport is having more number of medals so far?(Top 5)"
      ]
    },
    {
      "cell_type": "code",
      "metadata": {
        "colab": {
          "base_uri": "https://localhost:8080/",
          "height": 399
        },
        "id": "tDALZnFNuVLB",
        "outputId": "f17393b2-7ba9-4167-e9ce-df39d7fb1403"
      },
      "source": [
        "data = []\n",
        "\n",
        "for sport in df['Sport'].unique():\n",
        "  data.append([sport, len(df[df['Sport'] == sport])])\n",
        "\n",
        "data =  pd.DataFrame(data, columns = ['Sport', 'Medal'])\n",
        "data = data.sort_values(by = 'Medal', ascending = False).head()\n",
        "data.plot(x = 'Sport', y = 'Medal', kind = 'bar', figsize = (5,5))"
      ],
      "execution_count": null,
      "outputs": [
        {
          "output_type": "execute_result",
          "data": {
            "text/plain": [
              "<matplotlib.axes._subplots.AxesSubplot at 0x7f39224499d0>"
            ]
          },
          "metadata": {},
          "execution_count": 7
        },
        {
          "output_type": "display_data",
          "data": {
            "image/png": "[encoded data removed]",
            "text/plain": [
              "<Figure size 360x360 with 1 Axes>"
            ]
          },
          "metadata": {
            "needs_background": "light"
          }
        }
      ]
    },
    {
      "cell_type": "markdown",
      "metadata": {
        "id": "1ZAgC5Udxv7O"
      },
      "source": [
        "4. which player has won most number of medals? (Top 5 )"
      ]
    },
    {
      "cell_type": "code",
      "metadata": {
        "colab": {
          "base_uri": "https://localhost:8080/",
          "height": 458
        },
        "id": "4qweuPScx4so",
        "outputId": "54158303-4bdb-4f79-c186-12b9a5cb57dd"
      },
      "source": [
        "data = []\n",
        "\n",
        "for Athlete in df['Athlete'].unique():\n",
        "  data.append([Athlete, len(df[df['Athlete'] == Athlete ])])\n",
        "\n",
        "data =  pd.DataFrame(data, columns = ['Athlete', 'Medal'])\n",
        "data = data.sort_values(by = 'Medal', ascending = False).head()\n",
        "data.plot(x = 'Athlete', y = 'Medal', kind = 'bar', figsize = (5,5))"
      ],
      "execution_count": null,
      "outputs": [
        {
          "output_type": "execute_result",
          "data": {
            "text/plain": [
              "<matplotlib.axes._subplots.AxesSubplot at 0x7f39223d2a50>"
            ]
          },
          "metadata": {},
          "execution_count": 8
        },
        {
          "output_type": "display_data",
          "data": {
            "image/png": "[encoded data removed]",
            "text/plain": [
              "<Figure size 360x360 with 1 Axes>"
            ]
          },
          "metadata": {
            "needs_background": "light"
          }
        }
      ]
    },
    {
      "cell_type": "markdown",
      "metadata": {
        "id": "yZTO8Mq9y9bi"
      },
      "source": [
        "5. Which player has won the most number of gold medals? (Top5 )"
      ]
    },
    {
      "cell_type": "code",
      "metadata": {
        "colab": {
          "base_uri": "https://localhost:8080/",
          "height": 458
        },
        "id": "A_PDqkL8zNsW",
        "outputId": "3ea620ed-123a-47c8-96ac-fba5ba7ec83c"
      },
      "source": [
        "data = []\n",
        "\n",
        "for Athlete in df['Athlete'].unique():\n",
        "  data.append([Athlete, len(df[df['Athlete'] == Athlete ])])\n",
        "   \n",
        "  df[df.Athlete == 'Gold']\n",
        "\n",
        "data =  pd.DataFrame(data, columns = ['Athlete', 'Gold'])\n",
        "data = data.sort_values(by = 'Gold', ascending = False).head()\n",
        "data.plot(x = 'Athlete', y = 'Gold', kind = 'bar', figsize = (5,5))"
      ],
      "execution_count": null,
      "outputs": [
        {
          "output_type": "execute_result",
          "data": {
            "text/plain": [
              "<matplotlib.axes._subplots.AxesSubplot at 0x7f39223c8790>"
            ]
          },
          "metadata": {},
          "execution_count": 9
        },
        {
          "output_type": "display_data",
          "data": {
            "image/png": "[encoded data removed]",
            "text/plain": [
              "<Figure size 360x360 with 1 Axes>"
            ]
          },
          "metadata": {
            "needs_background": "light"
          }
        }
      ]
    },
    {
      "cell_type": "markdown",
      "metadata": {
        "id": "douIHKwQ4z0T"
      },
      "source": [
        "6. In which year India won first gold medal in Summer Olympics?"
      ]
    },
    {
      "cell_type": "code",
      "metadata": {
        "id": "brVWR8Yz5EEU",
        "colab": {
          "base_uri": "https://localhost:8080/",
          "height": 328
        },
        "outputId": "28aa7e7f-9ec3-4bf3-c555-8e230e863476"
      },
      "source": [
        "\n",
        "\n",
        "df = df[df['Country'] == 'IND']\n",
        "df = df[df['Medal'] == 'Gold']\n",
        "\n",
        "data = []\n",
        "for Year in df['Year'].unique():\n",
        "  data.append([Year, len(df[df['Year'] == Year ])])\n",
        "data =  pd.DataFrame(data, columns = ['Year', 'freq'])\n",
        "\n",
        "data\n"
      ],
      "execution_count": 8,
      "outputs": [
        {
          "output_type": "execute_result",
          "data": {
            "text/html": [
              "<div>\n",
              "<style scoped>\n",
              "    .dataframe tbody tr th:only-of-type {\n",
              "        vertical-align: middle;\n",
              "    }\n",
              "\n",
              "    .dataframe tbody tr th {\n",
              "        vertical-align: top;\n",
              "    }\n",
              "\n",
              "    .dataframe thead th {\n",
              "        text-align: right;\n",
              "    }\n",
              "</style>\n",
              "<table border=\"1\" class=\"dataframe\">\n",
              "  <thead>\n",
              "    <tr style=\"text-align: right;\">\n",
              "      <th></th>\n",
              "      <th>Year</th>\n",
              "      <th>freq</th>\n",
              "    </tr>\n",
              "  </thead>\n",
              "  <tbody>\n",
              "    <tr>\n",
              "      <th>0</th>\n",
              "      <td>1928</td>\n",
              "      <td>15</td>\n",
              "    </tr>\n",
              "    <tr>\n",
              "      <th>1</th>\n",
              "      <td>1932</td>\n",
              "      <td>11</td>\n",
              "    </tr>\n",
              "    <tr>\n",
              "      <th>2</th>\n",
              "      <td>1936</td>\n",
              "      <td>19</td>\n",
              "    </tr>\n",
              "    <tr>\n",
              "      <th>3</th>\n",
              "      <td>1948</td>\n",
              "      <td>20</td>\n",
              "    </tr>\n",
              "    <tr>\n",
              "      <th>4</th>\n",
              "      <td>1952</td>\n",
              "      <td>14</td>\n",
              "    </tr>\n",
              "    <tr>\n",
              "      <th>5</th>\n",
              "      <td>1956</td>\n",
              "      <td>17</td>\n",
              "    </tr>\n",
              "    <tr>\n",
              "      <th>6</th>\n",
              "      <td>1964</td>\n",
              "      <td>15</td>\n",
              "    </tr>\n",
              "    <tr>\n",
              "      <th>7</th>\n",
              "      <td>1980</td>\n",
              "      <td>16</td>\n",
              "    </tr>\n",
              "    <tr>\n",
              "      <th>8</th>\n",
              "      <td>2008</td>\n",
              "      <td>1</td>\n",
              "    </tr>\n",
              "  </tbody>\n",
              "</table>\n",
              "</div>"
            ],
            "text/plain": [
              "   Year  freq\n",
              "0  1928    15\n",
              "1  1932    11\n",
              "2  1936    19\n",
              "3  1948    20\n",
              "4  1952    14\n",
              "5  1956    17\n",
              "6  1964    15\n",
              "7  1980    16\n",
              "8  2008     1"
            ]
          },
          "metadata": {},
          "execution_count": 8
        }
      ]
    },
    {
      "cell_type": "markdown",
      "metadata": {
        "id": "2mioudzu7SZd"
      },
      "source": [
        "7. Which event is more popular in terms of number of players? (Top 5)"
      ]
    },
    {
      "cell_type": "code",
      "metadata": {
        "colab": {
          "base_uri": "https://localhost:8080/",
          "height": 351
        },
        "id": "QPoA8wVw7jkh",
        "outputId": "2e558220-670c-496a-c07c-dedce141fc2a"
      },
      "source": [
        "data = []\n",
        "\n",
        "for event in df['Event'].unique():\n",
        "  data.append([event, len(df[df['Event'] == event ])])\n",
        "\n",
        "data =  pd.DataFrame(data, columns = ['Event', 'Athlete'])\n",
        "data = data.sort_values(by = 'Athlete', ascending = False).head()\n",
        "data.plot(x = 'Event', y = 'Athlete', kind = 'line', figsize = (10,5))"
      ],
      "execution_count": null,
      "outputs": [
        {
          "output_type": "execute_result",
          "data": {
            "text/plain": [
              "<matplotlib.axes._subplots.AxesSubplot at 0x7fbc9a04f7d0>"
            ]
          },
          "metadata": {},
          "execution_count": 52
        },
        {
          "output_type": "display_data",
          "data": {
            "image/png": "[encoded data removed]",
            "text/plain": [
              "<Figure size 720x360 with 1 Axes>"
            ]
          },
          "metadata": {
            "needs_background": "light"
          }
        }
      ]
    },
    {
      "cell_type": "markdown",
      "metadata": {
        "id": "Thkx9BqA8znT"
      },
      "source": [
        "8. Which sport is having most female Gold medalists?(Top 5)"
      ]
    },
    {
      "cell_type": "code",
      "metadata": {
        "colab": {
          "base_uri": "https://localhost:8080/",
          "height": 399
        },
        "id": "VjFx-EtM9A5v",
        "outputId": "2d597d78-148c-4847-d9fc-95ccc5968ceb"
      },
      "source": [
        "data = []\n",
        "\n",
        "for Sport in df['Sport'].unique():\n",
        "  data.append([Sport, len(df[df['Sport'] == Sport ])])\n",
        "   \n",
        "df[(df['Sport']== 'Women') & (df['Sport'] == 'Gold')]\n",
        "\n",
        "data =  pd.DataFrame(data, columns = ['Sport', 'Women'])\n",
        "data = data.sort_values(by = 'Women', ascending = False).head()\n",
        "data.plot(x = 'Sport', y = 'Women', kind = 'bar', figsize = (5,5))"
      ],
      "execution_count": null,
      "outputs": [
        {
          "output_type": "execute_result",
          "data": {
            "text/plain": [
              "<matplotlib.axes._subplots.AxesSubplot at 0x7f3921fd8650>"
            ]
          },
          "metadata": {},
          "execution_count": 20
        },
        {
          "output_type": "display_data",
          "data": {
            "image/png": "[encoded data removed]",
            "text/plain": [
              "<Figure size 360x360 with 1 Axes>"
            ]
          },
          "metadata": {
            "needs_background": "light"
          }
        }
      ]
    }
  ]
}